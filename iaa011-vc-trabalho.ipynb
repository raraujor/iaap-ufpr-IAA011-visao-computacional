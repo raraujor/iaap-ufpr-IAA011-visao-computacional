{
 "cells": [
  {
   "cell_type": "markdown",
   "id": "9e1c82a6-cf40-4309-ae21-98f84f90aecc",
   "metadata": {},
   "source": [
    "# Trabalho IAA011 - Visão Computacional\n",
    "\n",
    "## Equipe 03\n",
    "* Gustavo Costa de Souza\n",
    "* Marcos Vinicius de Melo\n",
    "* Marcus Eneas Silveira Galvao do Rio Apa II\n",
    "* Patrícia Verdugo Pascoal\n",
    "* Rodrigo de Araujo\n",
    "* William de Souza Alencar"
   ]
  },
  {
   "cell_type": "markdown",
   "id": "e77d6ea3-220d-49ef-aa44-17ddb61fd5bf",
   "metadata": {},
   "source": [
    "# 1. Extração de Características\n",
    "\n",
    "Os bancos de imagens fornecidos são conjuntos de imagens de 250x250 pixels de imuno-histoquímica (biópsia) de câncer de mama. No total são 4 classes (0, 1+, 2+ e 3+) que estão divididas em diretórios. O objetivo é classificar as imagens nas categorias correspondentes. Uma base de imagens será utilizada para o treinamento e outra para o teste do treino.\n",
    "As imagens fornecidas são recortes de uma imagem maior do tipo WSI (Whole Slide Imaging) disponibilizada pela Universidade de Warwick (link). A nomenclatura das imagens segue o padrão XX_HER_YYYY.png, onde XX é o número do paciente e YYYY é o número da imagem recortada. Separe a base de treino em 80% para treino e 20% para validação. Separe por pacientes (XX), não utilize a separação randômica! Pois, imagens do mesmo paciente não podem estar na base de treino e de validação, pois isso pode gerar um viés. No caso da CNN VGG16 remova a última camada de classificação e armazene os valores da penúltima camada como um vetor de características. Após o treinamento, os modelos treinados devem ser validados na base de teste.\n",
    "\n",
    "Tarefas:\n",
    "1. Carregue a base de dados de Treino.\n",
    "2. Crie partições contendo 80% para treino e 20% para validação (atenção aos pacientes).\n",
    "3. Extraia características utilizando LBP e a CNN VGG16 (gerando um csv para cada extrator).\n",
    "4. Treine modelos Random Forest, SVM e RNA para predição dos dados extraídos (nessa tarefa utilize todas as imagens para o treinamento).\n",
    "5. Carregue a base de Teste e execute a tarefa 3 nesta base.\n",
    "6. Aplique os modelos treinados nos dados de teste.\n",
    "7. Calcule as métricas de Sensibilidade, Especificidade e F1-Score com base em suas matrizes de confusão.\n",
    "8. Indique qual modelo dá o melhor o resultado e a métrica utilizada"
   ]
  },
  {
   "cell_type": "code",
   "execution_count": 241,
   "id": "638229e0-8df4-4cf8-99ea-636b642505c1",
   "metadata": {},
   "outputs": [],
   "source": [
    "import os\n",
    "import shutil\n",
    "from collections import defaultdict\n",
    "from sklearn.model_selection import train_test_split\n",
    "import cv2\n",
    "import numpy as np\n",
    "from skimage.feature import local_binary_pattern\n",
    "from tqdm import tqdm\n",
    "import matplotlib.pyplot as plt\n",
    "import pandas as pd"
   ]
  },
  {
   "cell_type": "markdown",
   "id": "121ab9a3-c9c0-4610-a4ca-52fa72cbf1e9",
   "metadata": {},
   "source": [
    "### 1. Carregue a base de dados de Treino."
   ]
  },
  {
   "cell_type": "code",
   "execution_count": 242,
   "id": "1b05429e-0ec0-42d3-9ed6-a5bb42b052df",
   "metadata": {},
   "outputs": [],
   "source": [
    "!tar -xf Train_Warwick.zip -C train"
   ]
  },
  {
   "cell_type": "markdown",
   "id": "c72e3972-ca0b-4373-be7c-6a06636b3e89",
   "metadata": {},
   "source": [
    "### 2. Crie partições contendo 80% para treino e 20% para validação (atenção aos pacientes)."
   ]
  },
  {
   "cell_type": "code",
   "execution_count": 243,
   "id": "01dc794f-07c7-4c33-9908-0e956483cbeb",
   "metadata": {},
   "outputs": [
    {
     "name": "stdout",
     "output_type": "stream",
     "text": [
      "Copiando imagens de treino...\n",
      "Copiando imagens de validação...\n",
      "Separação concluída com sucesso!\n",
      "Total de pacientes de treino: 16\n",
      "Total de pacientes de validação: 4\n"
     ]
    }
   ],
   "source": [
    "BASE_DIR_TRAIN = 'train/Train_4cls_amostra'\n",
    "OUTPUT_DIR_TRAIN = 'train_split' \n",
    "\n",
    "classes = ['0', '1', '2', '3']\n",
    "\n",
    "for tp in ['train', 'val']:\n",
    "    for cls in classes:\n",
    "        os.makedirs(os.path.join(OUTPUT_DIR, tp, cls), exist_ok=True)\n",
    "\n",
    "patient_images = defaultdict(list)\n",
    "\n",
    "for cls in classes:\n",
    "    class_dir = os.path.join(BASE_DIR_TRAIN, cls)\n",
    "    for filename in os.listdir(class_dir):\n",
    "        if filename.endswith('.png'):            \n",
    "            patient_id = filename.split('_')[0]\n",
    "            img_path = os.path.join(class_dir, filename)\n",
    "            patient_images[patient_id].append((cls, img_path))\n",
    "\n",
    "patients = list(patient_images.keys())\n",
    "\n",
    "# Divide os pacientes (80% treino, 20% validação)\n",
    "train_patients, val_patients = train_test_split(\n",
    "    patients, test_size=0.2, random_state=42\n",
    ")\n",
    "\n",
    "def copy_images(patients, split_name):\n",
    "    for patient in patients:\n",
    "        for cls, img_path in patient_images[patient]:\n",
    "            dest_dir = os.path.join(OUTPUT_DIR_TRAIN, split_name, cls)\n",
    "            shutil.copy(img_path, dest_dir)\n",
    "\n",
    "print(\"Copiando imagens de treino...\")\n",
    "copy_images(train_patients, 'train')\n",
    "\n",
    "print(\"Copiando imagens de validação...\")\n",
    "copy_images(val_patients, 'val')\n",
    "\n",
    "print(\"Separação concluída com sucesso!\")\n",
    "print(f\"Total de pacientes de treino: {len(train_patients)}\")\n",
    "print(f\"Total de pacientes de validação: {len(val_patients)}\")"
   ]
  },
  {
   "cell_type": "markdown",
   "id": "00c11b42-448a-485b-87a1-3936e7437999",
   "metadata": {},
   "source": [
    "### 3. Extraia características utilizando LBP e a CNN VGG16 (gerando um csv para cada extrator)."
   ]
  },
  {
   "cell_type": "markdown",
   "id": "69ed8ba0-4cfa-479f-81fa-34b5dcd87f81",
   "metadata": {},
   "source": [
    "#### Extrator LBP"
   ]
  },
  {
   "cell_type": "code",
   "execution_count": 244,
   "id": "20fd8496-f995-45e1-8e0a-542d27a75c2c",
   "metadata": {},
   "outputs": [
    {
     "name": "stderr",
     "output_type": "stream",
     "text": [
      "Extraindo LBP da classe (0): 100%|██████████████████████████████████████████████████████████████████████████████████████| 146/146 [00:01<00:00, 126.68it/s]\n",
      "Extraindo LBP da classe (1): 100%|██████████████████████████████████████████████████████████████████████████████████████| 147/147 [00:01<00:00, 126.80it/s]\n",
      "Extraindo LBP da classe (2): 100%|██████████████████████████████████████████████████████████████████████████████████████| 150/150 [00:01<00:00, 130.35it/s]\n",
      "Extraindo LBP da classe (3): 100%|██████████████████████████████████████████████████████████████████████████████████████| 150/150 [00:01<00:00, 139.07it/s]"
     ]
    },
    {
     "name": "stdout",
     "output_type": "stream",
     "text": [
      "Formato do vetor de características LBP: (593, 10)\n",
      "Exemplo de histograma LBP: [0.013488 0.033344 0.04144  0.159392 0.356192 0.212496 0.071904 0.0356\n",
      " 0.03176  0.044384]\n",
      "Arquivo CSV gerado com sucesso: lbp_features_train.csv\n",
      "Dimensões: 593 amostras x 11 colunas\n",
      "CPU times: total: 4.55 s\n",
      "Wall time: 4.58 s\n"
     ]
    },
    {
     "name": "stderr",
     "output_type": "stream",
     "text": [
      "\n"
     ]
    }
   ],
   "source": [
    "%%time\n",
    "RADIUS = 1\n",
    "N_POINTS = 8 * RADIUS\n",
    "METHOD = 'uniform'\n",
    "\n",
    "def extract_lbp_hist_features(image_path):\n",
    "    image = cv2.imread(image_path, cv2.IMREAD_GRAYSCALE)    \n",
    "    \n",
    "    lbp = local_binary_pattern(image, N_POINTS, RADIUS, METHOD)\n",
    "\n",
    "    n_bins = int(lbp.max() + 1)\n",
    "    hist, _ = np.histogram(lbp.ravel(), bins=n_bins, range=(0, n_bins), density=True)\n",
    "    return hist\n",
    "\n",
    "\n",
    "def extract_lbp(dir_path):\n",
    "    features = []\n",
    "    labels = []    \n",
    "    for cls in classes:\n",
    "        class_dir = os.path.join(dir_path, cls)\n",
    "        for filename in tqdm(os.listdir(class_dir), desc=f\"Extraindo LBP da classe ({cls})\"):            \n",
    "            img_path = os.path.join(class_dir, filename)\n",
    "            hist = extract_lbp_hist_features(img_path)\n",
    "            features.append(hist)\n",
    "            labels.append(cls)                    \n",
    "    return features, labels\n",
    "\n",
    "features, labels = extract_lbp(BASE_DIR_TRAIN)\n",
    "\n",
    "features = np.array(features)\n",
    "labels = np.array(labels)\n",
    "\n",
    "print(\"Formato do vetor de características LBP:\", features.shape)\n",
    "print(\"Exemplo de histograma LBP:\", features[0])\n",
    "\n",
    "# Exporta os histogramas LBP para o CSV\n",
    "df_lbp = pd.DataFrame(features)\n",
    "df_lbp['label'] = labels\n",
    "\n",
    "output_csv_lbp_train = 'lbp_features_train.csv'\n",
    "df_lbp.to_csv(output_csv_lbp_train, index=False)\n",
    "\n",
    "print(f\"Arquivo CSV gerado com sucesso: {output_csv_lbp_train}\")\n",
    "print(f\"Dimensões: {df_lbp.shape[0]} amostras x {df_lbp.shape[1]} colunas\")"
   ]
  },
  {
   "cell_type": "markdown",
   "id": "cdfa1f86-4d35-444b-9bae-5cb058a49b45",
   "metadata": {},
   "source": [
    "#### Extrator CNN VGG16"
   ]
  },
  {
   "cell_type": "code",
   "execution_count": 245,
   "id": "19c86d1b-e9a4-42ae-af4f-8fad5aea8fed",
   "metadata": {},
   "outputs": [
    {
     "name": "stdout",
     "output_type": "stream",
     "text": [
      "Modelo VGG16 carregado. Dimensões da última camada:  (None, 7, 7, 512)\n"
     ]
    },
    {
     "name": "stderr",
     "output_type": "stream",
     "text": [
      "Extraindo VGG16 da classe (0): 100%|█████████████████████████████████████████████████████████████████████████████████████| 146/146 [00:19<00:00,  7.42it/s]\n",
      "Extraindo VGG16 da classe (1): 100%|█████████████████████████████████████████████████████████████████████████████████████| 147/147 [00:18<00:00,  7.77it/s]\n",
      "Extraindo VGG16 da classe (2): 100%|█████████████████████████████████████████████████████████████████████████████████████| 150/150 [00:19<00:00,  7.50it/s]\n",
      "Extraindo VGG16 da classe (3): 100%|█████████████████████████████████████████████████████████████████████████████████████| 150/150 [00:19<00:00,  7.57it/s]\n"
     ]
    },
    {
     "name": "stdout",
     "output_type": "stream",
     "text": [
      "Número de imagens: 593\n",
      "\n",
      "Extração concluída. Arquivo salvo em: vgg16_features_train.csv\n",
      "Dimensões: 593 amostras x 25089 colunas\n",
      "CPU times: total: 8min 5s\n",
      "Wall time: 1min 27s\n"
     ]
    }
   ],
   "source": [
    "%%time\n",
    "from tensorflow.keras.applications.vgg16 import VGG16, preprocess_input\n",
    "from tensorflow.keras.preprocessing import image\n",
    "from tensorflow.keras.models import Model\n",
    "\n",
    "# Carrega o modelo VGG16 pré-treinado no ImageNet, sem a camada de classificação\n",
    "vgg16 = VGG16(weights='imagenet', include_top=False, input_shape=(224, 224, 3))\n",
    "\n",
    "model_vgg16 = Model(inputs=vgg16.input, outputs=vgg16.output)\n",
    "\n",
    "print(\"Modelo VGG16 carregado. Dimensões da última camada: \", model_vgg16.output_shape)\n",
    "\n",
    "def extract_vgg16_features(img_path):\n",
    "    # Carrega imagem e redimensiona para 224x224 (padrão VGG16)\n",
    "    img = image.load_img(img_path, target_size=(224, 224))\n",
    "    img_array = image.img_to_array(img)\n",
    "    img_array = np.expand_dims(img_array, axis=0)\n",
    "    img_array = preprocess_input(img_array)\n",
    "\n",
    "    # Extrai características\n",
    "    features = model_vgg16.predict(img_array, verbose=0)\n",
    "    return features.flatten()\n",
    "\n",
    "def extract_vgg(dir_path):\n",
    "    features_vgg = []\n",
    "    labels_vgg = []\n",
    "    \n",
    "    for cls in classes:\n",
    "        class_dir = os.path.join(dir_path, cls)\n",
    "        for filename in tqdm(os.listdir(class_dir), desc=f\"Extraindo VGG16 da classe ({cls})\"):\n",
    "            img_path = os.path.join(class_dir, filename)\n",
    "            vec = extract_vgg16_features(img_path)\n",
    "            features_vgg.append(vec)\n",
    "            labels_vgg.append(cls)\n",
    "    return features_vgg, labels_vgg\n",
    "\n",
    "features_vgg, labels_vgg = extract_vgg(BASE_DIR_TRAIN)\n",
    "print(\"Número de imagens:\", len(features_vgg))\n",
    "\n",
    "# salva no CSV\n",
    "features_vgg = np.array(features_vgg)\n",
    "labels_vgg = np.array(labels_vgg)\n",
    "df_vgg = pd.DataFrame(features_vgg)\n",
    "df_vgg['label'] = labels_vgg\n",
    "\n",
    "output_csv = 'vgg16_features_train.csv'\n",
    "df_vgg.to_csv(output_csv, index=False)\n",
    "\n",
    "print(f\"\\nExtração concluída. Arquivo salvo em: {output_csv}\")\n",
    "print(f\"Dimensões: {df_vgg.shape[0]} amostras x {df_vgg.shape[1]} colunas\")"
   ]
  },
  {
   "cell_type": "markdown",
   "id": "161cc247-a9c0-4aa3-a157-1ca1e5e3b98d",
   "metadata": {},
   "source": [
    "### 4. Treine modelos Random Forest, SVM e RNA para predição dos dados extraídos (nessa tarefa utilize todas as imagens para o treinamento)."
   ]
  },
  {
   "cell_type": "markdown",
   "id": "c181dedd-9c99-4a36-9d53-311ba5046ea0",
   "metadata": {},
   "source": [
    "#### Treinando os modelos utilizando as características LBP"
   ]
  },
  {
   "cell_type": "code",
   "execution_count": 246,
   "id": "37c46ac4-f17f-4e0f-a6d0-dac2b8e93297",
   "metadata": {},
   "outputs": [
    {
     "name": "stdout",
     "output_type": "stream",
     "text": [
      "Formato do DataFrame LBP: (593, 11)\n",
      "X shape: (593, 10)\n",
      "y shape: (593,)\n",
      "CPU times: total: 0 ns\n",
      "Wall time: 13 ms\n"
     ]
    }
   ],
   "source": [
    "%%time\n",
    "df_lbp = pd.read_csv('lbp_features_train.csv')\n",
    "\n",
    "print(\"Formato do DataFrame LBP:\", df_lbp.shape)\n",
    "#print(df_lbp.head(2))\n",
    "\n",
    "X = df_lbp.drop(columns=['label']).to_numpy(dtype=np.float32)\n",
    "y = df_lbp['label'].to_numpy(dtype=np.int32)\n",
    "\n",
    "print(\"X shape:\", X.shape)\n",
    "print(\"y shape:\", y.shape)"
   ]
  },
  {
   "cell_type": "markdown",
   "id": "7d48f513-f0d9-4a97-91aa-b00bb896a53b",
   "metadata": {},
   "source": [
    "##### SVM"
   ]
  },
  {
   "cell_type": "code",
   "execution_count": 247,
   "id": "085382c6-12a2-49ee-9baa-1b9d6edfeb1e",
   "metadata": {},
   "outputs": [
    {
     "name": "stdout",
     "output_type": "stream",
     "text": [
      "[LibSVM]Modelo SVM treinado\n",
      "Número de vetores de suporte por classe: [146 142 150  79]\n",
      "CPU times: total: 15.6 ms\n",
      "Wall time: 9.01 ms\n"
     ]
    }
   ],
   "source": [
    "%%time\n",
    "\n",
    "from sklearn.svm import SVC\n",
    "\n",
    "# Cria e treina o classificador SVM\n",
    "def svm(X, y):    \n",
    "    svm = SVC(kernel='rbf', gamma='scale', C=1, verbose=True, random_state=42, class_weight='balanced')\n",
    "    svm.fit(X, y)    \n",
    "    print(\"Modelo SVM treinado\")\n",
    "    return svm\n",
    "\n",
    "svm_lbp = svm(X, y)\n",
    "\n",
    "print(\"Número de vetores de suporte por classe:\", svm_lbp.n_support_)"
   ]
  },
  {
   "cell_type": "markdown",
   "id": "7e595cd7-5df6-408e-8502-17fa6d62c79f",
   "metadata": {},
   "source": [
    "##### Random Forest"
   ]
  },
  {
   "cell_type": "code",
   "execution_count": 248,
   "id": "9a0158ff-c499-4ce3-bfb0-157a3104515b",
   "metadata": {},
   "outputs": [
    {
     "name": "stdout",
     "output_type": "stream",
     "text": [
      "Modelo RF treinado\n",
      "CPU times: total: 125 ms\n",
      "Wall time: 146 ms\n"
     ]
    },
    {
     "name": "stderr",
     "output_type": "stream",
     "text": [
      "[Parallel(n_jobs=1)]: Done  49 tasks      | elapsed:    0.0s\n"
     ]
    }
   ],
   "source": [
    "%%time\n",
    "from sklearn.ensemble import RandomForestClassifier\n",
    "\n",
    "def rf(X, y):\n",
    "    rf = RandomForestClassifier(n_estimators=100, random_state=42, verbose=True )\n",
    "    rf.fit(X, y)\n",
    "    print(\"Modelo RF treinado\")\n",
    "    return rf\n",
    "    \n",
    "rf_clf_lbp = rf(X, y)"
   ]
  },
  {
   "cell_type": "markdown",
   "id": "e968ad19-2baf-42d3-92d7-eacc67fb7ce8",
   "metadata": {},
   "source": [
    "##### RNA"
   ]
  },
  {
   "cell_type": "code",
   "execution_count": 249,
   "id": "1c9932a5-a4e0-4e68-a8c2-1527e3f775b8",
   "metadata": {},
   "outputs": [
    {
     "name": "stdout",
     "output_type": "stream",
     "text": [
      "Modelo RNA treinado\n",
      "CPU times: total: 2.31 s\n",
      "Wall time: 2.45 s\n"
     ]
    }
   ],
   "source": [
    "%%time\n",
    "from sklearn.neural_network import MLPClassifier\n",
    "\n",
    "def rna(X, y):\n",
    "    rna = MLPClassifier(hidden_layer_sizes=(15,), activation='relu', alpha=0.1, solver='adam',\n",
    "                        max_iter=3000, random_state=42, verbose=False)\n",
    "    rna.fit(X, y)    \n",
    "    print(\"Modelo RNA treinado\")\n",
    "    return rna\n",
    "\n",
    "rna_lbp = rna(X, y)"
   ]
  },
  {
   "cell_type": "markdown",
   "id": "1426496d-8d37-4b3a-ac00-0d8d83a87531",
   "metadata": {},
   "source": [
    "#### Treinando os modelos utilizando as características VGG16"
   ]
  },
  {
   "cell_type": "code",
   "execution_count": 250,
   "id": "5e0091b3-2b20-4a74-aaf2-d7499de9866f",
   "metadata": {},
   "outputs": [
    {
     "name": "stdout",
     "output_type": "stream",
     "text": [
      "Formato do DataFrame VGG: (593, 25089)\n",
      "X shape: (593, 25088)\n",
      "y shape: (593,)\n",
      "CPU times: total: 2.95 s\n",
      "Wall time: 3.14 s\n"
     ]
    }
   ],
   "source": [
    "%%time\n",
    "df_vgg = pd.read_csv('vgg16_features_train.csv')\n",
    "\n",
    "print(\"Formato do DataFrame VGG:\", df_vgg.shape)\n",
    "\n",
    "X = df_vgg.drop(columns=['label']).to_numpy(dtype=np.float32)\n",
    "y = df_vgg['label'].to_numpy(dtype=np.int32)\n",
    "\n",
    "print(\"X shape:\", X.shape)\n",
    "print(\"y shape:\", y.shape)"
   ]
  },
  {
   "cell_type": "code",
   "execution_count": 251,
   "id": "3478f3a4-3d5f-4215-b6b2-b0554a68ecc3",
   "metadata": {},
   "outputs": [
    {
     "name": "stdout",
     "output_type": "stream",
     "text": [
      "[LibSVM]Modelo SVM treinado\n",
      "Número de vetores de suporte por classe: [139 145 143 136]\n",
      "CPU times: total: 13min 13s\n",
      "Wall time: 52.5 s\n"
     ]
    }
   ],
   "source": [
    "%%time\n",
    "svm_vgg = svm(X, y)\n",
    "\n",
    "print(\"Número de vetores de suporte por classe:\", svm_vgg.n_support_)"
   ]
  },
  {
   "cell_type": "code",
   "execution_count": 252,
   "id": "dcc1afe5-f8b1-4d44-ae3a-3879c630474e",
   "metadata": {},
   "outputs": [
    {
     "name": "stderr",
     "output_type": "stream",
     "text": [
      "[Parallel(n_jobs=1)]: Done  49 tasks      | elapsed:    0.3s\n"
     ]
    },
    {
     "name": "stdout",
     "output_type": "stream",
     "text": [
      "Modelo RF treinado\n",
      "CPU times: total: 797 ms\n",
      "Wall time: 802 ms\n"
     ]
    }
   ],
   "source": [
    "%%time\n",
    "rf_clf_vgg = rf(X, y)"
   ]
  },
  {
   "cell_type": "code",
   "execution_count": 253,
   "id": "0f9bc180-9cb7-4c15-9229-9bd2c0a6a955",
   "metadata": {},
   "outputs": [
    {
     "name": "stdout",
     "output_type": "stream",
     "text": [
      "Modelo RNA treinado\n",
      "CPU times: total: 1min 9s\n",
      "Wall time: 33.1 s\n"
     ]
    }
   ],
   "source": [
    "%%time\n",
    "rna_vgg = rna(X, y)"
   ]
  },
  {
   "cell_type": "markdown",
   "id": "415cf679-c1db-4d1e-bf54-95d2ec395379",
   "metadata": {},
   "source": [
    "### 5. Carregue a base de Teste e execute a tarefa 3 nesta base."
   ]
  },
  {
   "cell_type": "code",
   "execution_count": 254,
   "id": "6ddadea7-af28-4063-89d7-232cf56ebde9",
   "metadata": {},
   "outputs": [],
   "source": [
    "!tar -xf Test_Warwick.zip -C test"
   ]
  },
  {
   "cell_type": "code",
   "execution_count": 255,
   "id": "2ae5768e-a2d2-49c4-a574-1615ec8098b8",
   "metadata": {},
   "outputs": [
    {
     "name": "stderr",
     "output_type": "stream",
     "text": [
      "Extraindo LBP da classe (0): 100%|██████████████████████████████████████████████████████████████████████████████████████| 101/101 [00:00<00:00, 138.66it/s]\n",
      "Extraindo LBP da classe (1): 100%|████████████████████████████████████████████████████████████████████████████████████████| 90/90 [00:00<00:00, 129.85it/s]\n",
      "Extraindo LBP da classe (2): 100%|████████████████████████████████████████████████████████████████████████████████████████| 90/90 [00:00<00:00, 123.99it/s]\n",
      "Extraindo LBP da classe (3): 100%|████████████████████████████████████████████████████████████████████████████████████████| 90/90 [00:00<00:00, 142.00it/s]"
     ]
    },
    {
     "name": "stdout",
     "output_type": "stream",
     "text": [
      "Número de imagens: 371\n",
      "Arquivo CSV gerado com sucesso: lbp_features_test.csv\n",
      "Dimensões: 371 amostras x 11 colunas\n",
      "CPU times: total: 2.8 s\n",
      "Wall time: 2.81 s\n"
     ]
    },
    {
     "name": "stderr",
     "output_type": "stream",
     "text": [
      "\n"
     ]
    }
   ],
   "source": [
    "%%time\n",
    "BASE_DIR_TEST = 'test/Test_4cl_amostra'\n",
    "\n",
    "features = []\n",
    "labels = []\n",
    "features, labels = extract_lbp(BASE_DIR_TEST)\n",
    "\n",
    "features = np.array(features, dtype=np.float32)  # vetor 1D por imagem\n",
    "labels = np.array(labels)\n",
    "imgs_original = np.array(imgs_original)\n",
    "\n",
    "print(\"Número de imagens:\", len(features))\n",
    "\n",
    "## exporta para csv\n",
    "df_lbp = pd.DataFrame(features)\n",
    "df_lbp['label'] = labels\n",
    "\n",
    "#print(df_lbp.head(2))\n",
    "\n",
    "output_csv = 'lbp_features_test.csv'\n",
    "df_lbp.to_csv(output_csv, index=False)\n",
    "\n",
    "print(f\"Arquivo CSV gerado com sucesso: {output_csv}\")\n",
    "print(f\"Dimensões: {df_lbp.shape[0]} amostras x {df_lbp.shape[1]} colunas\")"
   ]
  },
  {
   "cell_type": "code",
   "execution_count": 256,
   "id": "ab93afdf-a008-414f-b025-2c4105e75b92",
   "metadata": {},
   "outputs": [
    {
     "name": "stdout",
     "output_type": "stream",
     "text": [
      "Formato do DataFrame de teste: (371, 11)\n",
      "X shape: (371, 10)\n",
      "y shape: (371,)\n",
      "CPU times: total: 0 ns\n",
      "Wall time: 5 ms\n"
     ]
    }
   ],
   "source": [
    "%%time\n",
    "df_lbp_test = pd.read_csv('lbp_features_test.csv')\n",
    "\n",
    "print(\"Formato do DataFrame de teste:\", df_lbp_test.shape)\n",
    "#print(df_lbp_test.head(2))\n",
    "\n",
    "X_test = df_lbp.drop(columns=['label']).to_numpy(dtype=np.float64)\n",
    "y_test = df_lbp['label'].to_numpy(dtype=np.int32)\n",
    "\n",
    "print(\"X shape:\", X_test.shape)\n",
    "print(\"y shape:\", y_test.shape)"
   ]
  },
  {
   "cell_type": "code",
   "execution_count": 257,
   "id": "b63d7c7c-1469-4cd7-b264-f2c1aa19ba84",
   "metadata": {},
   "outputs": [
    {
     "name": "stdout",
     "output_type": "stream",
     "text": [
      "SVM LBP- Acurácia: 0.555256064690027\n",
      "Rando Forest LBP- Acurácia: 0.568733153638814\n",
      "RNA LBP- Acurácia: 0.5876010781671159\n",
      "CPU times: total: 15.6 ms\n",
      "Wall time: 17 ms\n"
     ]
    },
    {
     "name": "stderr",
     "output_type": "stream",
     "text": [
      "[Parallel(n_jobs=1)]: Done  49 tasks      | elapsed:    0.0s\n"
     ]
    }
   ],
   "source": [
    "%%time\n",
    "from sklearn.metrics import accuracy_score, classification_report, confusion_matrix\n",
    "\n",
    "y_pred_svm_lbp = svm_lbp.predict(X_test)\n",
    "y_pred_rf_lbp = rf_clf_lbp.predict(X_test)\n",
    "y_pred_rna_lbp = rna_lbp.predict(X_test)\n",
    "\n",
    "print(\"SVM LBP- Acurácia:\", accuracy_score(y_test, y_pred_svm_lbp))\n",
    "print(\"Rando Forest LBP- Acurácia:\", accuracy_score(y_test, y_pred_rf_lbp))\n",
    "print(\"RNA LBP- Acurácia:\", accuracy_score(y_test, y_pred_rna_lbp))"
   ]
  },
  {
   "cell_type": "markdown",
   "id": "d2db857c-4516-4461-9bfa-803575cdfb9e",
   "metadata": {},
   "source": [
    "#### VGG"
   ]
  },
  {
   "cell_type": "code",
   "execution_count": 258,
   "id": "ea4a8fcc-e677-4acd-848f-8b8d1063bf77",
   "metadata": {},
   "outputs": [
    {
     "name": "stderr",
     "output_type": "stream",
     "text": [
      "Extraindo VGG16 da classe (0): 100%|█████████████████████████████████████████████████████████████████████████████████████| 101/101 [00:12<00:00,  8.35it/s]\n",
      "Extraindo VGG16 da classe (1): 100%|███████████████████████████████████████████████████████████████████████████████████████| 90/90 [00:10<00:00,  8.22it/s]\n",
      "Extraindo VGG16 da classe (2): 100%|███████████████████████████████████████████████████████████████████████████████████████| 90/90 [00:10<00:00,  8.28it/s]\n",
      "Extraindo VGG16 da classe (3): 100%|███████████████████████████████████████████████████████████████████████████████████████| 90/90 [00:10<00:00,  8.21it/s]\n"
     ]
    },
    {
     "name": "stdout",
     "output_type": "stream",
     "text": [
      "Número de imagens: 371\n",
      "Arquivo CSV gerado com sucesso: vgg_features_test.csv\n",
      "Dimensões: 371 amostras x 25089 colunas\n"
     ]
    }
   ],
   "source": [
    "features = []\n",
    "labels = []\n",
    "features, labels = extract_vgg(BASE_DIR_TEST)\n",
    "\n",
    "features = np.array(features, dtype=np.float32)  # vetor 1D por imagem\n",
    "labels = np.array(labels)\n",
    "\n",
    "print(\"Número de imagens:\", len(features))\n",
    "\n",
    "## exporta para csv\n",
    "df_vgg = pd.DataFrame(features)\n",
    "df_vgg['label'] = labels\n",
    "\n",
    "#print(df_vgg.head(2))\n",
    "\n",
    "output_csv = 'vgg_features_test.csv'\n",
    "df_vgg.to_csv(output_csv, index=False)\n",
    "\n",
    "print(f\"Arquivo CSV gerado com sucesso: {output_csv}\")\n",
    "print(f\"Dimensões: {df_vgg.shape[0]} amostras x {df_vgg.shape[1]} colunas\")"
   ]
  },
  {
   "cell_type": "code",
   "execution_count": 259,
   "id": "1edc69cd-06c5-49bf-9058-cb466c4efe40",
   "metadata": {},
   "outputs": [
    {
     "name": "stdout",
     "output_type": "stream",
     "text": [
      "Formato do DataFrame VGG de teste: (371, 25089)\n",
      "X shape: (371, 25088)\n",
      "y shape: (371,)\n",
      "CPU times: total: 1.8 s\n",
      "Wall time: 1.85 s\n"
     ]
    }
   ],
   "source": [
    "%%time\n",
    "df_vgg_test = pd.read_csv('vgg_features_test.csv')\n",
    "\n",
    "print(\"Formato do DataFrame VGG de teste:\", df_vgg_test.shape)\n",
    "#print(df_vgg_test.head(2))\n",
    "\n",
    "X_vgg_test = df_vgg_test.drop(columns=['label']).to_numpy(dtype=np.float32)\n",
    "y_vgg_test = df_vgg_test['label'].to_numpy(dtype=np.int32)\n",
    "\n",
    "print(\"X shape:\", X_vgg_test.shape)\n",
    "print(\"y shape:\", y_vgg_test.shape)"
   ]
  },
  {
   "cell_type": "code",
   "execution_count": 260,
   "id": "c7dd9fad-2740-42d6-bd07-cec9daee8669",
   "metadata": {},
   "outputs": [
    {
     "name": "stdout",
     "output_type": "stream",
     "text": [
      "SVM VGG- Acurácia: 0.8140161725067385\n",
      "Rando Forest VGG- Acurácia: 0.7574123989218329\n",
      "RNA VGG- Acurácia: 0.5390835579514824\n",
      "CPU times: total: 12min 9s\n",
      "Wall time: 56.4 s\n"
     ]
    },
    {
     "name": "stderr",
     "output_type": "stream",
     "text": [
      "[Parallel(n_jobs=1)]: Done  49 tasks      | elapsed:    0.0s\n"
     ]
    }
   ],
   "source": [
    "%%time\n",
    "y_pred_svm_vgg = svm_vgg.predict(X_vgg_test)\n",
    "y_pred_rf_vgg = rf_clf_vgg.predict(X_vgg_test)\n",
    "y_pred_rna_vgg = rna_vgg.predict(X_vgg_test)\n",
    "\n",
    "print(\"SVM VGG- Acurácia:\", accuracy_score(y_vgg_test, y_pred_svm_vgg))\n",
    "print(\"Rando Forest VGG- Acurácia:\", accuracy_score(y_vgg_test, y_pred_rf_vgg))\n",
    "print(\"RNA VGG- Acurácia:\", accuracy_score(y_vgg_test, y_pred_rna_vgg))"
   ]
  },
  {
   "cell_type": "markdown",
   "id": "b4f898d0-6287-40be-b506-337c48e92238",
   "metadata": {},
   "source": [
    "### 7. Calcule as métricas de Sensibilidade, Especificidade e F1-Score com base em suas matrizes de confusão."
   ]
  },
  {
   "cell_type": "code",
   "execution_count": 261,
   "id": "2e4487e7-a025-4019-9354-69feb4f1df8d",
   "metadata": {},
   "outputs": [
    {
     "data": {
      "image/png": "[encoded data removed]",
      "text/plain": [
       "<Figure size 2000x1000 with 3 Axes>"
      ]
     },
     "metadata": {},
     "output_type": "display_data"
    },
    {
     "name": "stdout",
     "output_type": "stream",
     "text": [
      "Métricas SVM LBP\n",
      "              precision    recall  f1-score   support\n",
      "\n",
      "           0      0.286     0.020     0.037       101\n",
      "           1      0.385     0.833     0.526        90\n",
      "           2      0.563     0.444     0.497        90\n",
      "           3      0.908     0.989     0.947        90\n",
      "\n",
      "    accuracy                          0.555       371\n",
      "   macro avg      0.535     0.572     0.502       371\n",
      "weighted avg      0.528     0.555     0.488       371\n",
      "\n",
      "Métricas Randon Forest LBP\n",
      "              precision    recall  f1-score   support\n",
      "\n",
      "           0      0.571     0.475     0.519       101\n",
      "           1      0.390     0.456     0.421        90\n",
      "           2      0.429     0.467     0.447        90\n",
      "           3      0.952     0.889     0.920        90\n",
      "\n",
      "    accuracy                          0.569       371\n",
      "   macro avg      0.586     0.572     0.576       371\n",
      "weighted avg      0.585     0.569     0.575       371\n",
      "\n",
      "Métricas Randon RNA LBP\n",
      "              precision    recall  f1-score   support\n",
      "\n",
      "           0      0.500     0.109     0.179       101\n",
      "           1      0.405     0.778     0.532        90\n",
      "           2      0.632     0.533     0.578        90\n",
      "           3      0.890     0.989     0.937        90\n",
      "\n",
      "    accuracy                          0.588       371\n",
      "   macro avg      0.607     0.602     0.557       371\n",
      "weighted avg      0.603     0.588     0.545       371\n",
      "\n"
     ]
    }
   ],
   "source": [
    "import seaborn as sns\n",
    "import matplotlib.pyplot as plt\n",
    "from sklearn.metrics import confusion_matrix\n",
    "from sklearn.metrics import accuracy_score\n",
    "\n",
    "def plot_heatmap(y_true, y_pred, class_names, ax, title):\n",
    "    cm = confusion_matrix(y_true, y_pred)\n",
    "    sns.heatmap(\n",
    "        cm,\n",
    "        annot=True,\n",
    "        square=True,\n",
    "        xticklabels=class_names,\n",
    "        yticklabels=class_names,\n",
    "        fmt='d',\n",
    "        cmap=plt.cm.Blues,\n",
    "        cbar=False,\n",
    "        ax=ax\n",
    "    )\n",
    "    ax.set_title(title, fontsize=16)\n",
    "    ax.set_xticklabels(ax.get_xticklabels(), rotation=45, ha=\"right\")\n",
    "    ax.set_ylabel('True Label', fontsize=12)\n",
    "    ax.set_xlabel('Predicted Label', fontsize=12)    \n",
    "\n",
    "fig, (ax1, ax2, ax3) = plt.subplots(1, 3, figsize=(20, 10))\n",
    "\n",
    "plot_heatmap(y_test, y_pred_svm_lbp, classes, ax1, title=\"SVM com caracteristisca LBP\")\n",
    "plot_heatmap(y_test, y_pred_rf_lbp, classes, ax2, title=\"RF com caracteristisca LBP\")\n",
    "plot_heatmap(y_test, y_pred_rna_lbp, classes, ax3, title=\"RNA com caracteristisca LBP\")\n",
    "\n",
    "fig.suptitle(\"Comparação das Matrizes de Confusão - modelos treinados com LBP\", fontsize=24)\n",
    "fig.tight_layout()\n",
    "fig.subplots_adjust(top=1.2)\n",
    "plt.show()\n",
    "\n",
    "print(\"Métricas SVM LBP\")\n",
    "print(classification_report(y_test, y_pred_svm_lbp, digits=3))\n",
    "print(\"Métricas Randon Forest LBP\")\n",
    "print(classification_report(y_test, y_pred_rf_lbp, digits=3))\n",
    "print(\"Métricas Randon RNA LBP\")\n",
    "print(classification_report(y_test, y_pred_rna_lbp, digits=3))"
   ]
  },
  {
   "cell_type": "code",
   "execution_count": 263,
   "id": "90a7aa07-e710-4470-8fba-014660d7406c",
   "metadata": {},
   "outputs": [
    {
     "data": {
      "image/png": "[encoded data removed]",
      "text/plain": [
       "<Figure size 2000x1000 with 3 Axes>"
      ]
     },
     "metadata": {},
     "output_type": "display_data"
    },
    {
     "name": "stdout",
     "output_type": "stream",
     "text": [
      "Métricas SVM VGG\n",
      "              precision    recall  f1-score   support\n",
      "\n",
      "           0      0.935     0.990     0.962       101\n",
      "           1      0.796     0.478     0.597        90\n",
      "           2      0.633     0.767     0.693        90\n",
      "           3      0.891     1.000     0.942        90\n",
      "\n",
      "    accuracy                          0.814       371\n",
      "   macro avg      0.814     0.809     0.799       371\n",
      "weighted avg      0.817     0.814     0.803       371\n",
      "\n",
      "Métricas Randon Forest VGG\n",
      "              precision    recall  f1-score   support\n",
      "\n",
      "           0      0.783     1.000     0.878       101\n",
      "           1      0.540     0.300     0.386        90\n",
      "           2      0.640     0.711     0.674        90\n",
      "           3      0.967     0.989     0.978        90\n",
      "\n",
      "    accuracy                          0.757       371\n",
      "   macro avg      0.733     0.750     0.729       371\n",
      "weighted avg      0.734     0.757     0.733       371\n",
      "\n",
      "Métricas Randon RNA VGG\n",
      "              precision    recall  f1-score   support\n",
      "\n",
      "           0      0.901     0.634     0.744       101\n",
      "           1      0.148     0.089     0.111        90\n",
      "           2      0.280     0.511     0.362        90\n",
      "           3      1.000     0.911     0.953        90\n",
      "\n",
      "    accuracy                          0.539       371\n",
      "   macro avg      0.583     0.536     0.543       371\n",
      "weighted avg      0.592     0.539     0.549       371\n",
      "\n"
     ]
    }
   ],
   "source": [
    "fig, (ax1, ax2, ax3) = plt.subplots(1, 3, figsize=(20, 10))\n",
    "\n",
    "plot_heatmap(y_vgg_test, y_pred_svm_vgg, classes, ax1, title=\"SVM com caracteristisca VGG\")\n",
    "plot_heatmap(y_vgg_test, y_pred_rf_vgg, classes, ax2, title=\"RF com caracteristisca VGG\")\n",
    "plot_heatmap(y_vgg_test, y_pred_rna_vgg, classes, ax3, title=\"RNA com caracteristisca VGG\")\n",
    "\n",
    "fig.suptitle(\"Comparação das Matrizes de Confusão - modelos treinados com VGG\", fontsize=24)\n",
    "fig.tight_layout()\n",
    "fig.subplots_adjust(top=1.2)\n",
    "plt.show()\n",
    "\n",
    "print(\"Métricas SVM VGG\")\n",
    "print(classification_report(y_vgg_test, y_pred_svm_vgg, digits=3))\n",
    "print(\"Métricas Randon Forest VGG\")\n",
    "print(classification_report(y_vgg_test, y_pred_rf_vgg, digits=3))\n",
    "print(\"Métricas Randon RNA VGG\")\n",
    "print(classification_report(y_vgg_test, y_pred_rna_vgg, digits=3))"
   ]
  },
  {
   "cell_type": "markdown",
   "id": "923f0ae4-ea0a-40fb-ae98-7083f1b80d3f",
   "metadata": {},
   "source": [
    "### 8. Indique qual modelo dá o melhor o resultado e a métrica utilizada"
   ]
  },
  {
   "cell_type": "markdown",
   "id": "8314c1ed-b6f2-4613-a145-24fa5b0d5860",
   "metadata": {},
   "source": [
    "O melhor modelo é o **SVM** usando **features VGG**, pois apresenta a maior **F1 ponderada (0.804)** e também a maior **acurácia (0.814)**entre todos os modelos testados."
   ]
  },
  {
   "cell_type": "markdown",
   "id": "ff4fab1f-84c4-4ce4-aaa3-c704c73d1865",
   "metadata": {},
   "source": [
    "# 2. Redes Neurais\n",
    "\n",
    "Utilize as duas bases do exercício anterior para treinar as Redes Neurais Convolucionais VGG16 e a Resnet50. Utilize os pesos pré-treinados (Transfer Learning), refaça as camadas Fully Connected para o problema de 4 classes. Treine só as novas camadas. Compare os treinos de 10 épocas com e sem Data Augmentation. Tanto a VGG16 quanto a Resnet50 têm como camada de entrada uma imagem 224x224x3, ou seja, uma imagem de 224x224 pixels coloridos (3 canais de cores). Portanto, será necessário fazer uma transformação de 250x250x3 para 224x224x3. Ao fazer o Data Augmentation cuidado para não alterar demais as cores das imagens e atrapalhar na classificação.\n",
    "\n",
    "Tarefas:\n",
    "1. Utilize a base de dados de Treino já separadas em treino e validação do exercício anterior.\n",
    "2. Treine modelos VGG16 e Resnet50 adaptadas com e sem Data Augmentation\n",
    "3. Aplique os modelos treinados nas imagens da base de Teste\n",
    "4. Calcule as métricas de Sensibilidade, Especificidade e F1-Score com base em suas matrizes de confusão.\n",
    "5. Indique qual modelo dá o melhor o resultado e a métrica utilizada"
   ]
  },
  {
   "cell_type": "code",
   "execution_count": null,
   "id": "2da7b8c8-b407-4ccf-ab79-3ec264ecf2ee",
   "metadata": {},
   "outputs": [],
   "source": []
  },
  {
   "cell_type": "code",
   "execution_count": null,
   "id": "e2e55a3d-7393-4e58-a723-8680e42ff7f6",
   "metadata": {},
   "outputs": [],
   "source": []
  }
 ],
 "metadata": {
  "kernelspec": {
   "display_name": "Python 3 (ipykernel)",
   "language": "python",
   "name": "python3"
  },
  "language_info": {
   "codemirror_mode": {
    "name": "ipython",
    "version": 3
   },
   "file_extension": ".py",
   "mimetype": "text/x-python",
   "name": "python",
   "nbconvert_exporter": "python",
   "pygments_lexer": "ipython3",
   "version": "3.11.0"
  }
 },
 "nbformat": 4,
 "nbformat_minor": 5
}
